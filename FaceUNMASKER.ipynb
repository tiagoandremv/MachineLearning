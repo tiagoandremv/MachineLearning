{
  "nbformat": 4,
  "nbformat_minor": 0,
  "metadata": {
    "colab": {
      "name": "FaceUNMASKER.ipynb",
      "provenance": [],
      "collapsed_sections": [],
      "mount_file_id": "17cwN4JDpiSqk8wPVmFt09UdOE_6m9L9n",
      "authorship_tag": "ABX9TyMRcaHIKanCAahd2Zyu8ocQ",
      "include_colab_link": true
    },
    "kernelspec": {
      "name": "python3",
      "display_name": "Python 3"
    },
    "accelerator": "GPU"
  },
  "cells": [
    {
      "cell_type": "markdown",
      "metadata": {
        "id": "view-in-github",
        "colab_type": "text"
      },
      "source": [
        "<a href=\"https://colab.research.google.com/github/tiagoandremv/MachineLearning/blob/main/FaceUNMASKER.ipynb\" target=\"_parent\"><img src=\"https://colab.research.google.com/assets/colab-badge.svg\" alt=\"Open In Colab\"/></a>"
      ]
    },
    {
      "cell_type": "code",
      "metadata": {
        "id": "-5-3_7hxkZ_W"
      },
      "source": [
        ""
      ],
      "execution_count": null,
      "outputs": []
    },
    {
      "cell_type": "markdown",
      "metadata": {
        "id": "3UTB4P_jkhtC"
      },
      "source": [
        "#Importação de bibliotecas"
      ]
    },
    {
      "cell_type": "code",
      "metadata": {
        "id": "DC2QoQUPkjaC"
      },
      "source": [
        "# IMPORTAÇÃO DE BIBLIOTECAS NECESSÁRIAS\n",
        "import os\n",
        "import cv2\n",
        "import pandas as pd\n",
        "import numpy  as np\n",
        "import matplotlib.pyplot as plt\n",
        "\n",
        "from sklearn.metrics import confusion_matrix, accuracy_score, roc_curve, mean_squared_error, roc_auc_score, f1_score\n",
        "from sklearn.model_selection import train_test_split\n",
        "\n",
        "from tensorflow.keras.layers    import Conv2D, Dense, Dropout, Flatten, MaxPooling2D\n",
        "from tensorflow.keras.models    import Sequential\n",
        "from tensorflow.keras.callbacks import EarlyStopping\n",
        "from tensorflow.keras.losses    import SparseCategoricalCrossentropy, CategoricalCrossentropy, binary_crossentropy\n",
        "\n",
        "from random import shuffle\n",
        "from tqdm   import tqdm # permite verificar o progresso do carregamento\n",
        "\n",
        "\n",
        "class PrepareData:\n",
        "\n",
        "  def __init__(self):\n",
        "    path = '/content/drive/My Drive/Colab Notebooks/tdx_project/dataset-proj/'\n",
        "    self.train_path = path + 'train/'  \n",
        "    self.validation_path = path + 'validation/' \n",
        "\n",
        "  def label_img(self, _path):\n",
        "    word_label = _path.split('/')[-2]\n",
        "    return [1] if word_label == 'fake' else [0]\n",
        "    # if word_label == 'fake':\n",
        "    #   return [1]\n",
        "    # elif word_label == 'real':\n",
        "    #   return [0,1]\n",
        "\n",
        "  def scale_image(self, img, scale_percent = 50):\n",
        "    width = int(img.shape[1] * scale_percent / 100)\n",
        "    height = int(img.shape[0] * scale_percent / 100)\n",
        "    scale = (width, height)\n",
        "    img = cv2.resize(img, scale)\n",
        "    return img\n",
        "\n",
        "  def load_prepare_data (self, _type):\n",
        "    dataset = []\n",
        "    _path = self.train_path if _type == 'train' else self.validation_path \n",
        "    \n",
        "    for folder in os.listdir(_path): #['fake', 'real']\n",
        "      path_folder = os.path.join(_path, folder)\n",
        "      \n",
        "      for filename in tqdm(os.listdir(path_folder)):\n",
        "        path = os.path.join(path_folder, filename)\n",
        "        label = self.label_img(path) # [0,1] para real , [1,0] para fake\n",
        "\n",
        "        img = cv2.imread(path)\n",
        "        img = self.scale_image(img)\n",
        "        img = img.astype(\"float64\") / 255.0\n",
        "        #original_image = cv2.cvtColor(img, cv2.COLOR_BGR2RGB)   \n",
        "        \n",
        "        dataset.append([np.array(img), np.array(label)])\n",
        "    \n",
        "    shuffle(dataset)\n",
        "    return dataset    \n",
        "\n",
        "\n",
        "def plot_all_images(images):\n",
        "  for i in range(len(images)):\n",
        "    plt.subplot(1,len(images),i+1) \n",
        "    plt.imshow(images[i])\n",
        "    plt.title(titles[i])\n",
        "    plt.xticks([])\n",
        "    plt.yticks([])\n",
        "  plt.show()\n",
        "\n",
        "def plot_image(img):\n",
        "  plot = plt.figure()\n",
        "#  plot = plot.add_subplot(4, 5, num + 1)\n",
        "  plot.imshow(img)\n",
        "  plot.show()"
      ],
      "execution_count": 12,
      "outputs": []
    },
    {
      "cell_type": "markdown",
      "metadata": {
        "id": "SNDk9L0qHU75"
      },
      "source": [
        "#Carregamento de Imagens"
      ]
    },
    {
      "cell_type": "code",
      "metadata": {
        "id": "BMp7KwCgQPlk",
        "outputId": "a2b74c22-679a-4da4-c1a0-b3e36d2fc17d",
        "colab": {
          "base_uri": "https://localhost:8080/",
          "height": 197
        }
      },
      "source": [
        "pData = PrepareData()\n",
        "train_data = pData.load_prepare_data(_type = 'train')\n",
        "validation_data = pData.load_prepare_data(_type = 'validation')"
      ],
      "execution_count": 2,
      "outputs": [
        {
          "output_type": "error",
          "ename": "NameError",
          "evalue": "ignored",
          "traceback": [
            "\u001b[0;31m---------------------------------------------------------------------------\u001b[0m",
            "\u001b[0;31mNameError\u001b[0m                                 Traceback (most recent call last)",
            "\u001b[0;32m<ipython-input-2-8509ef91744c>\u001b[0m in \u001b[0;36m<module>\u001b[0;34m()\u001b[0m\n\u001b[0;32m----> 1\u001b[0;31m \u001b[0mpData\u001b[0m \u001b[0;34m=\u001b[0m \u001b[0mPrepareData\u001b[0m\u001b[0;34m(\u001b[0m\u001b[0;34m)\u001b[0m\u001b[0;34m\u001b[0m\u001b[0;34m\u001b[0m\u001b[0m\n\u001b[0m\u001b[1;32m      2\u001b[0m \u001b[0mtrain_data\u001b[0m \u001b[0;34m=\u001b[0m \u001b[0mpData\u001b[0m\u001b[0;34m.\u001b[0m\u001b[0mload_prepare_data\u001b[0m\u001b[0;34m(\u001b[0m\u001b[0m_type\u001b[0m \u001b[0;34m=\u001b[0m \u001b[0;34m'train'\u001b[0m\u001b[0;34m)\u001b[0m\u001b[0;34m\u001b[0m\u001b[0;34m\u001b[0m\u001b[0m\n\u001b[1;32m      3\u001b[0m \u001b[0mvalidation_data\u001b[0m \u001b[0;34m=\u001b[0m \u001b[0mpData\u001b[0m\u001b[0;34m.\u001b[0m\u001b[0mload_prepare_data\u001b[0m\u001b[0;34m(\u001b[0m\u001b[0m_type\u001b[0m \u001b[0;34m=\u001b[0m \u001b[0;34m'validation'\u001b[0m\u001b[0;34m)\u001b[0m\u001b[0;34m\u001b[0m\u001b[0;34m\u001b[0m\u001b[0m\n",
            "\u001b[0;31mNameError\u001b[0m: name 'PrepareData' is not defined"
          ]
        }
      ]
    },
    {
      "cell_type": "code",
      "metadata": {
        "id": "VKJBtlagSkd4"
      },
      "source": [
        "print(\"train_data Shape: \", np.asarray(train_data).shape)\n",
        "print(\"validation_data Shape: \", np.asarray(validation_data).shape)\n",
        "\n",
        "num, data = train_data[0]\n",
        "\n",
        "inputs_shape = num.shape\n",
        "print(\"Inputs Shape: \", inputs_shape)"
      ],
      "execution_count": null,
      "outputs": []
    },
    {
      "cell_type": "markdown",
      "metadata": {
        "id": "CY8_Pm1I2j3i"
      },
      "source": [
        "#Definição de features"
      ]
    },
    {
      "cell_type": "code",
      "metadata": {
        "id": "3JLDrXoT2gpc"
      },
      "source": [
        "# X-Features & Y-Labels\n",
        "train_images = np.array([i[0] for i in train_data])\n",
        "train_labels = np.array([i[1] for i in train_data]).astype('float64')\n",
        "\n",
        "validation_images = np.array([i[0] for i in validation_data])\n",
        "validation_labels = np.array([i[1] for i in validation_data]).astype('float64')\n",
        "\n",
        "print(\"Images, shape and type: \", train_images.shape, train_images.dtype)\n",
        "print(\"Labels, shape and type: \", train_labels.shape, train_labels.dtype)"
      ],
      "execution_count": null,
      "outputs": []
    },
    {
      "cell_type": "markdown",
      "metadata": {
        "id": "QwrfzfWRRA3a"
      },
      "source": [
        "# Definição do MODEL"
      ]
    },
    {
      "cell_type": "code",
      "metadata": {
        "id": "tquu_lTZvXpo",
        "outputId": "405be160-0994-4869-f9e2-5178dc230144",
        "colab": {
          "base_uri": "https://localhost:8080/",
          "height": 231
        }
      },
      "source": [
        "early_callback = EarlyStopping(monitor = 'loss', patience = 2)\n",
        "\n",
        "model = Sequential()\n",
        "model.add(Conv2D(16, 3, activation='relu', padding='same', input_shape=inputs_shape))\n",
        "model.add(MaxPooling2D())\n",
        "model.add(Conv2D(32, 3, activation='relu', padding='same'))\n",
        "model.add(MaxPooling2D())\n",
        "model.add(Conv2D(64, 3, activation='relu', padding='same'))\n",
        "model.add(MaxPooling2D())\n",
        "model.add(Dropout(0.2))\n",
        "\n",
        "model.add(Flatten())\n",
        "model.add(Dense(128, activation='relu'))\n",
        "model.add(Dense(1))\n",
        "\n",
        "\n",
        "model.compile(optimizer='adam', \n",
        "              loss=SparseCategoricalCrossentropy(from_logits=True),\n",
        "              metrics=['accuracy'])"
      ],
      "execution_count": 1,
      "outputs": [
        {
          "output_type": "error",
          "ename": "NameError",
          "evalue": "ignored",
          "traceback": [
            "\u001b[0;31m---------------------------------------------------------------------------\u001b[0m",
            "\u001b[0;31mNameError\u001b[0m                                 Traceback (most recent call last)",
            "\u001b[0;32m<ipython-input-1-c80e2380c371>\u001b[0m in \u001b[0;36m<module>\u001b[0;34m()\u001b[0m\n\u001b[0;32m----> 1\u001b[0;31m \u001b[0mearly_callback\u001b[0m \u001b[0;34m=\u001b[0m \u001b[0mEarlyStopping\u001b[0m\u001b[0;34m(\u001b[0m\u001b[0mmonitor\u001b[0m \u001b[0;34m=\u001b[0m \u001b[0;34m'loss'\u001b[0m\u001b[0;34m,\u001b[0m \u001b[0mpatience\u001b[0m \u001b[0;34m=\u001b[0m \u001b[0;36m2\u001b[0m\u001b[0;34m)\u001b[0m\u001b[0;34m\u001b[0m\u001b[0;34m\u001b[0m\u001b[0m\n\u001b[0m\u001b[1;32m      2\u001b[0m \u001b[0;34m\u001b[0m\u001b[0m\n\u001b[1;32m      3\u001b[0m \u001b[0mmodel\u001b[0m \u001b[0;34m=\u001b[0m \u001b[0mSequential\u001b[0m\u001b[0;34m(\u001b[0m\u001b[0;34m)\u001b[0m\u001b[0;34m\u001b[0m\u001b[0;34m\u001b[0m\u001b[0m\n\u001b[1;32m      4\u001b[0m \u001b[0mmodel\u001b[0m\u001b[0;34m.\u001b[0m\u001b[0madd\u001b[0m\u001b[0;34m(\u001b[0m\u001b[0mConv2D\u001b[0m\u001b[0;34m(\u001b[0m\u001b[0;36m16\u001b[0m\u001b[0;34m,\u001b[0m \u001b[0;36m3\u001b[0m\u001b[0;34m,\u001b[0m \u001b[0mactivation\u001b[0m\u001b[0;34m=\u001b[0m\u001b[0;34m'relu'\u001b[0m\u001b[0;34m,\u001b[0m \u001b[0mpadding\u001b[0m\u001b[0;34m=\u001b[0m\u001b[0;34m'same'\u001b[0m\u001b[0;34m,\u001b[0m \u001b[0minput_shape\u001b[0m\u001b[0;34m=\u001b[0m\u001b[0minputs_shape\u001b[0m\u001b[0;34m)\u001b[0m\u001b[0;34m)\u001b[0m\u001b[0;34m\u001b[0m\u001b[0;34m\u001b[0m\u001b[0m\n\u001b[1;32m      5\u001b[0m \u001b[0mmodel\u001b[0m\u001b[0;34m.\u001b[0m\u001b[0madd\u001b[0m\u001b[0;34m(\u001b[0m\u001b[0mMaxPooling2D\u001b[0m\u001b[0;34m(\u001b[0m\u001b[0;34m)\u001b[0m\u001b[0;34m)\u001b[0m\u001b[0;34m\u001b[0m\u001b[0;34m\u001b[0m\u001b[0m\n",
            "\u001b[0;31mNameError\u001b[0m: name 'EarlyStopping' is not defined"
          ]
        }
      ]
    },
    {
      "cell_type": "code",
      "metadata": {
        "id": "bN4Pn9UPyRii",
        "outputId": "77823f36-bf25-48fb-ac37-bb9cdb52693c",
        "colab": {
          "base_uri": "https://localhost:8080/"
        }
      },
      "source": [
        "history = model.fit(train_images, \n",
        "                    train_labels, \n",
        "                    epochs = 30, \n",
        "                    validation_data = (validation_images, validation_labels), \n",
        "                    #callbacks = [early_callback] \n",
        "                    )"
      ],
      "execution_count": 6,
      "outputs": [
        {
          "output_type": "stream",
          "text": [
            "Epoch 1/30\n",
            "44/44 [==============================] - 4s 81ms/step - loss: 0.9482 - accuracy: 0.5150 - val_loss: 0.6696 - val_accuracy: 0.6000\n",
            "Epoch 2/30\n",
            "44/44 [==============================] - 3s 62ms/step - loss: 0.6475 - accuracy: 0.6157 - val_loss: 0.6367 - val_accuracy: 0.6300\n",
            "Epoch 3/30\n",
            "44/44 [==============================] - 3s 61ms/step - loss: 0.4859 - accuracy: 0.7650 - val_loss: 0.5856 - val_accuracy: 0.6900\n",
            "Epoch 4/30\n",
            "44/44 [==============================] - 3s 62ms/step - loss: 0.3650 - accuracy: 0.8336 - val_loss: 0.5488 - val_accuracy: 0.7217\n",
            "Epoch 5/30\n",
            "44/44 [==============================] - 3s 62ms/step - loss: 0.2644 - accuracy: 0.8871 - val_loss: 0.6257 - val_accuracy: 0.7600\n",
            "Epoch 6/30\n",
            "44/44 [==============================] - 3s 62ms/step - loss: 0.1640 - accuracy: 0.9364 - val_loss: 0.8041 - val_accuracy: 0.7183\n",
            "Epoch 7/30\n",
            "44/44 [==============================] - 3s 63ms/step - loss: 0.1027 - accuracy: 0.9679 - val_loss: 0.9364 - val_accuracy: 0.7450\n",
            "Epoch 8/30\n",
            "44/44 [==============================] - 3s 63ms/step - loss: 0.0632 - accuracy: 0.9836 - val_loss: 1.0576 - val_accuracy: 0.7417\n",
            "Epoch 9/30\n",
            "44/44 [==============================] - 3s 63ms/step - loss: 0.0323 - accuracy: 0.9921 - val_loss: 1.4676 - val_accuracy: 0.7233\n",
            "Epoch 10/30\n",
            "44/44 [==============================] - 3s 63ms/step - loss: 0.0554 - accuracy: 0.9793 - val_loss: 1.2488 - val_accuracy: 0.7517\n",
            "Epoch 11/30\n",
            "44/44 [==============================] - 3s 63ms/step - loss: 0.0211 - accuracy: 0.9929 - val_loss: 1.2250 - val_accuracy: 0.7367\n",
            "Epoch 12/30\n",
            "44/44 [==============================] - 3s 63ms/step - loss: 0.0107 - accuracy: 0.9986 - val_loss: 1.4800 - val_accuracy: 0.7400\n",
            "Epoch 13/30\n",
            "44/44 [==============================] - 3s 63ms/step - loss: 0.0055 - accuracy: 0.9986 - val_loss: 1.4592 - val_accuracy: 0.7400\n",
            "Epoch 14/30\n",
            "44/44 [==============================] - 3s 63ms/step - loss: 0.0190 - accuracy: 0.9950 - val_loss: 1.4871 - val_accuracy: 0.7350\n",
            "Epoch 15/30\n",
            "44/44 [==============================] - 3s 63ms/step - loss: 0.0288 - accuracy: 0.9886 - val_loss: 1.4629 - val_accuracy: 0.7517\n",
            "Epoch 16/30\n",
            "44/44 [==============================] - 3s 63ms/step - loss: 0.0103 - accuracy: 0.9979 - val_loss: 1.6021 - val_accuracy: 0.7417\n",
            "Epoch 17/30\n",
            "44/44 [==============================] - 3s 63ms/step - loss: 0.0163 - accuracy: 0.9950 - val_loss: 1.6060 - val_accuracy: 0.7267\n",
            "Epoch 18/30\n",
            "44/44 [==============================] - 3s 64ms/step - loss: 0.0354 - accuracy: 0.9907 - val_loss: 1.6768 - val_accuracy: 0.7417\n",
            "Epoch 19/30\n",
            "44/44 [==============================] - 3s 64ms/step - loss: 0.0212 - accuracy: 0.9950 - val_loss: 1.5868 - val_accuracy: 0.7483\n",
            "Epoch 20/30\n",
            "44/44 [==============================] - 3s 64ms/step - loss: 0.0201 - accuracy: 0.9929 - val_loss: 1.9249 - val_accuracy: 0.7283\n",
            "Epoch 21/30\n",
            "44/44 [==============================] - 3s 64ms/step - loss: 0.0126 - accuracy: 0.9964 - val_loss: 2.1473 - val_accuracy: 0.7283\n",
            "Epoch 22/30\n",
            "44/44 [==============================] - 3s 64ms/step - loss: 0.0078 - accuracy: 0.9979 - val_loss: 1.7711 - val_accuracy: 0.7417\n",
            "Epoch 23/30\n",
            "44/44 [==============================] - 3s 64ms/step - loss: 0.0069 - accuracy: 0.9979 - val_loss: 2.1526 - val_accuracy: 0.7567\n",
            "Epoch 24/30\n",
            "44/44 [==============================] - 3s 64ms/step - loss: 0.0099 - accuracy: 0.9950 - val_loss: 1.8598 - val_accuracy: 0.7500\n",
            "Epoch 25/30\n",
            "44/44 [==============================] - 3s 63ms/step - loss: 0.0017 - accuracy: 1.0000 - val_loss: 2.1480 - val_accuracy: 0.7533\n",
            "Epoch 26/30\n",
            "44/44 [==============================] - 3s 64ms/step - loss: 7.8923e-04 - accuracy: 1.0000 - val_loss: 2.1501 - val_accuracy: 0.7517\n",
            "Epoch 27/30\n",
            "44/44 [==============================] - 3s 65ms/step - loss: 6.8924e-04 - accuracy: 1.0000 - val_loss: 2.1677 - val_accuracy: 0.7550\n",
            "Epoch 28/30\n",
            "44/44 [==============================] - 3s 64ms/step - loss: 8.4044e-04 - accuracy: 1.0000 - val_loss: 2.2472 - val_accuracy: 0.7433\n",
            "Epoch 29/30\n",
            "44/44 [==============================] - 3s 64ms/step - loss: 0.0025 - accuracy: 0.9993 - val_loss: 2.4688 - val_accuracy: 0.7383\n",
            "Epoch 30/30\n",
            "44/44 [==============================] - 3s 64ms/step - loss: 0.0061 - accuracy: 0.9986 - val_loss: 2.3052 - val_accuracy: 0.7350\n"
          ],
          "name": "stdout"
        }
      ]
    },
    {
      "cell_type": "code",
      "metadata": {
        "id": "KEoFiGG89euM",
        "outputId": "fe76b3ba-69a2-4ba2-8f5f-b648e1f6ebb3",
        "colab": {
          "base_uri": "https://localhost:8080/"
        }
      },
      "source": [
        "model.summary()"
      ],
      "execution_count": 11,
      "outputs": [
        {
          "output_type": "stream",
          "text": [
            "Model: \"sequential\"\n",
            "_________________________________________________________________\n",
            "Layer (type)                 Output Shape              Param #   \n",
            "=================================================================\n",
            "conv2d (Conv2D)              (None, 256, 256, 32)      416       \n",
            "_________________________________________________________________\n",
            "max_pooling2d (MaxPooling2D) (None, 128, 128, 32)      0         \n",
            "_________________________________________________________________\n",
            "conv2d_1 (Conv2D)            (None, 127, 127, 64)      8256      \n",
            "_________________________________________________________________\n",
            "max_pooling2d_1 (MaxPooling2 (None, 63, 63, 64)        0         \n",
            "_________________________________________________________________\n",
            "conv2d_2 (Conv2D)            (None, 62, 62, 128)       32896     \n",
            "_________________________________________________________________\n",
            "max_pooling2d_2 (MaxPooling2 (None, 31, 31, 128)       0         \n",
            "_________________________________________________________________\n",
            "dropout (Dropout)            (None, 31, 31, 128)       0         \n",
            "_________________________________________________________________\n",
            "flatten (Flatten)            (None, 123008)            0         \n",
            "_________________________________________________________________\n",
            "dense (Dense)                (None, 128)               15745152  \n",
            "_________________________________________________________________\n",
            "dense_1 (Dense)              (None, 10)                1290      \n",
            "=================================================================\n",
            "Total params: 15,788,010\n",
            "Trainable params: 15,788,010\n",
            "Non-trainable params: 0\n",
            "_________________________________________________________________\n"
          ],
          "name": "stdout"
        }
      ]
    },
    {
      "cell_type": "code",
      "metadata": {
        "id": "eieAHTfioZi9",
        "outputId": "4a1e1d9b-d1e3-44ab-8a06-64094fd576f8",
        "colab": {
          "base_uri": "https://localhost:8080/",
          "height": 499
        }
      },
      "source": [
        "acc = history.history['accuracy']\n",
        "val_acc = history.history['val_accuracy']\n",
        "\n",
        "loss = history.history['loss']\n",
        "val_loss = history.history['val_loss']\n",
        "\n",
        "epochs_range = range(30)\n",
        "\n",
        "plt.figure(figsize=(8, 8))\n",
        "plt.subplot(1, 2, 1)\n",
        "plt.plot(epochs_range, acc, label='Training Accuracy')\n",
        "plt.plot(epochs_range, val_acc, label='Validation Accuracy')\n",
        "plt.legend(loc='lower right')\n",
        "plt.title('Training and Validation Accuracy')\n",
        "\n",
        "plt.subplot(1, 2, 2)\n",
        "plt.plot(epochs_range, loss, label='Training Loss')\n",
        "plt.plot(epochs_range, val_loss, label='Validation Loss')\n",
        "plt.legend(loc='upper right')\n",
        "plt.title('Training and Validation Loss')\n",
        "plt.show()"
      ],
      "execution_count": 8,
      "outputs": [
        {
          "output_type": "display_data",
          "data": {
            "image/png": "[encoded data removed]",
            "text/plain": [
              "<Figure size 576x576 with 2 Axes>"
            ]
          },
          "metadata": {
            "tags": [],
            "needs_background": "light"
          }
        }
      ]
    },
    {
      "cell_type": "code",
      "metadata": {
        "id": "kcV3ojQalhht"
      },
      "source": [
        "# APRESENTAÇÃO DE RESULTADOS\n",
        "\n",
        "#print(\"Confusion Matrix\\n\", confusion_matrix(y_train, train_predictions))\n",
        "#print(\"Accuracy: %.2f %%\" % (accuracy_score(y_train, train_predictions) * 100))"
      ],
      "execution_count": 9,
      "outputs": []
    },
    {
      "cell_type": "code",
      "metadata": {
        "id": "qwc12WRfNxdf"
      },
      "source": [
        ""
      ],
      "execution_count": 9,
      "outputs": []
    }
  ]
}