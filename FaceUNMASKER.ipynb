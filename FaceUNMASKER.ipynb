{
  "nbformat": 4,
  "nbformat_minor": 0,
  "metadata": {
    "colab": {
      "name": "FaceUNMASKER.ipynb",
      "provenance": [],
      "collapsed_sections": [],
      "mount_file_id": "17cwN4JDpiSqk8wPVmFt09UdOE_6m9L9n",
      "authorship_tag": "ABX9TyNQb8qq8IcC/L2h1KMzDr4h",
      "include_colab_link": true
    },
    "kernelspec": {
      "name": "python3",
      "display_name": "Python 3"
    },
    "accelerator": "GPU"
  },
  "cells": [
    {
      "cell_type": "markdown",
      "metadata": {
        "id": "view-in-github",
        "colab_type": "text"
      },
      "source": [
        "<a href=\"https://colab.research.google.com/github/tiagoandremv/MachineLearning/blob/main/FaceUNMASKER.ipynb\" target=\"_parent\"><img src=\"https://colab.research.google.com/assets/colab-badge.svg\" alt=\"Open In Colab\"/></a>"
      ]
    },
    {
      "cell_type": "code",
      "metadata": {
        "id": "-5-3_7hxkZ_W"
      },
      "source": [
        ""
      ],
      "execution_count": null,
      "outputs": []
    },
    {
      "cell_type": "markdown",
      "metadata": {
        "id": "3UTB4P_jkhtC"
      },
      "source": [
        "#Importação de bibliotecas"
      ]
    },
    {
      "cell_type": "code",
      "metadata": {
        "id": "DC2QoQUPkjaC"
      },
      "source": [
        "# IMPORTAÇÃO DE BIBLIOTECAS NECESSÁRIAS\n",
        "import os\n",
        "import cv2\n",
        "import pandas as pd\n",
        "import numpy as np\n",
        "import matplotlib \n",
        "import matplotlib.pyplot as plt\n",
        "\n",
        "from sklearn.metrics import confusion_matrix, accuracy_score, roc_curve, mean_squared_error\n",
        "from sklearn.model_selection import train_test_split\n",
        "from PIL import Image\n",
        "\n",
        "# usando o cv2, deixa de ser necesasrio fazer o import do google drive\n",
        "#from google.colab import drive\n",
        "#drive.mount('/gdrive')"
      ],
      "execution_count": 1,
      "outputs": []
    },
    {
      "cell_type": "markdown",
      "metadata": {
        "id": "y1EjHc9vRMq4"
      },
      "source": [
        "#Definição de funções"
      ]
    },
    {
      "cell_type": "code",
      "metadata": {
        "id": "Maoyn4F9dqZq"
      },
      "source": [
        "def __init__(self):\n",
        "  path = '/content/drive/My Drive/Colab Notebooks/tdx_project/dataset-proj/'\n",
        "  self.train_path = path + 'train/'  \n",
        "  self.test_path = path + 'validation/' "
      ],
      "execution_count": 2,
      "outputs": []
    },
    {
      "cell_type": "markdown",
      "metadata": {
        "id": "q5YQWA6DRSZ8"
      },
      "source": [
        "Função para visualizar progressão da imagem de treino:"
      ]
    },
    {
      "cell_type": "code",
      "metadata": {
        "id": "UjZ8Sbm0Nj8A"
      },
      "source": [
        "def plot_all_images():\n",
        "  for i in range(len(images)):\n",
        "    plt.subplot(1,len(images),i+1) \n",
        "    plt.imshow(images[i])\n",
        "    plt.title(titles[i])\n",
        "    \n",
        "    plt.xticks([])\n",
        "    plt.yticks([])\n",
        "  plt.show()\n",
        "\n",
        "def plot_image(img):\n",
        "  plot = plt.figure()\n",
        "#  plot = plot.add_subplot(4, 5, num + 1)\n",
        "  plot.imshow(img)\n",
        "  plot.show()\n",
        "\n"
      ],
      "execution_count": 3,
      "outputs": []
    },
    {
      "cell_type": "markdown",
      "metadata": {
        "id": "yqJtQ8U5HNR0"
      },
      "source": [
        "Função para realizar o rescale da imagem:"
      ]
    },
    {
      "cell_type": "code",
      "metadata": {
        "id": "1lNSm2AwHTHi"
      },
      "source": [
        "def scale_image(img, scale_percent = 50):\n",
        "  width = int(img.shape[1] * scale_percent / 100)\n",
        "  height = int(img.shape[0] * scale_percent / 100)\n",
        "  scale = (width, height)\n",
        "  img = cv2.resize(img, scale)\n",
        "  return img"
      ],
      "execution_count": 4,
      "outputs": []
    },
    {
      "cell_type": "code",
      "metadata": {
        "id": "ogV_Au2MauQL"
      },
      "source": [
        "def label_img(path):\n",
        "    word_label = path.split('/')[-2]\n",
        "    # DIY One hot encoder\n",
        "    if word_label == 'fake':\n",
        "        return [1]\n",
        "    elif word_label == 'real':\n",
        "        return [0]"
      ],
      "execution_count": 5,
      "outputs": []
    },
    {
      "cell_type": "code",
      "metadata": {
        "id": "5mMaemz3bAAM",
        "outputId": "ee7ed94d-3f3c-43d8-db2a-e045bce92edb",
        "colab": {
          "base_uri": "https://localhost:8080/"
        }
      },
      "source": [
        "label_img('/content/drive/My Drive/Colab Notebooks/tdx_project/dataset/train/fake/159.jpg')"
      ],
      "execution_count": 6,
      "outputs": [
        {
          "output_type": "execute_result",
          "data": {
            "text/plain": [
              "[1]"
            ]
          },
          "metadata": {
            "tags": []
          },
          "execution_count": 6
        }
      ]
    },
    {
      "cell_type": "markdown",
      "metadata": {
        "id": "SNDk9L0qHU75"
      },
      "source": [
        "#Carregamento de Imagens"
      ]
    },
    {
      "cell_type": "code",
      "metadata": {
        "id": "RObZ5tJfnbQ3"
      },
      "source": [
        "from tqdm import tqdm # permite verificar o progresso do carregamento\n",
        "from random import shuffle\n",
        "\n",
        "def load_prepare_data (_path):\n",
        "  \n",
        "  dataset = []\n",
        "  \n",
        "  for folder in os.listdir(_path): #['fake', 'real']\n",
        "    \n",
        "    path_folder = os.path.join(_path, folder)\n",
        "\n",
        "    for filename in tqdm(os.listdir(path_folder)):\n",
        "\n",
        "      \n",
        "      #print(path_folder)\n",
        "      path = os.path.join(path_folder, filename)\n",
        "      #print(path)\n",
        "      label = label_img(path) # [0,1] para real , [1,0] para fake\n",
        "      #print(label)\n",
        "\n",
        "      img = cv2.imread(path)\n",
        "      \n",
        "      img = scale_image(img)\n",
        "      img = scale_image(img)\n",
        "\n",
        "      #img = img.astype(\"float64\") / 255.0\n",
        "      #original_image = cv2.cvtColor(img, cv2.COLOR_BGR2RGB) \n",
        "      \n",
        "      dataset.append([np.array(img), np.array(label)])\n",
        "      #break\n",
        "  \n",
        "  shuffle(dataset)\n",
        "  return dataset\n",
        "\n",
        "\n"
      ],
      "execution_count": 7,
      "outputs": []
    },
    {
      "cell_type": "code",
      "metadata": {
        "id": "BMp7KwCgQPlk",
        "outputId": "7f3833b1-260f-4974-b209-1230e62a213e",
        "colab": {
          "base_uri": "https://localhost:8080/"
        }
      },
      "source": [
        "train_data = load_prepare_data('/content/drive/My Drive/Colab Notebooks/tdx_project/dataset-proj/train/')"
      ],
      "execution_count": 8,
      "outputs": [
        {
          "output_type": "stream",
          "text": [
            "100%|██████████| 700/700 [00:11<00:00, 58.67it/s]\n",
            "100%|██████████| 700/700 [00:54<00:00, 12.76it/s]\n"
          ],
          "name": "stderr"
        }
      ]
    },
    {
      "cell_type": "code",
      "metadata": {
        "id": "Jm_Pbvnk5dQv",
        "outputId": "3fff3932-4570-4460-a586-812692303b44",
        "colab": {
          "base_uri": "https://localhost:8080/"
        }
      },
      "source": [
        "print(np.asarray(train_data).shape)"
      ],
      "execution_count": 9,
      "outputs": [
        {
          "output_type": "stream",
          "text": [
            "(1400, 2)\n"
          ],
          "name": "stdout"
        }
      ]
    },
    {
      "cell_type": "code",
      "metadata": {
        "id": "VKJBtlagSkd4",
        "outputId": "803333e8-edbf-4681-ddc4-f028730e9e69",
        "colab": {
          "base_uri": "https://localhost:8080/"
        }
      },
      "source": [
        "num, data = train_data[0]\n",
        "\n",
        "inputs_shape = num.shape\n",
        "print(\"Inputs Shape: \", inputs_shape)"
      ],
      "execution_count": 10,
      "outputs": [
        {
          "output_type": "stream",
          "text": [
            "Inputs Shape:  (256, 256, 3)\n"
          ],
          "name": "stdout"
        }
      ]
    },
    {
      "cell_type": "markdown",
      "metadata": {
        "id": "QwrfzfWRRA3a"
      },
      "source": [
        "# Definição do MODEL"
      ]
    },
    {
      "cell_type": "code",
      "metadata": {
        "id": "dGnlFfSIQuwj"
      },
      "source": [
        "from tensorflow.keras import layers, models\n",
        "\n",
        "model = models.Sequential()\n",
        "\n",
        "### YOUR CODE HERE: ~9 lines of code expected, one per layer ### \n",
        "model.add(layers.Conv2D(32, (3, 3), activation='relu', padding='same', input_shape=inputs_shape))\n",
        "model.add(layers.MaxPooling2D((2, 2)))\n",
        "#model.add(layers.Dropout(0.2))\n",
        "\n",
        "model.add(layers.Conv2D(64, (3, 3), activation='relu'))\n",
        "model.add(layers.MaxPooling2D((2, 2)))\n",
        "model.add(layers.Dropout(0.2))\n",
        "\n",
        "model.add(layers.Conv2D(64, (3, 3), activation='relu'))\n",
        "#model.add(layers.Dropout(0.2))\n",
        "\n",
        "model.add(layers.Flatten())\n",
        "\n",
        "model.add(layers.Dense(128, activation='relu'))\n",
        "model.add(layers.Dense(10))"
      ],
      "execution_count": 28,
      "outputs": []
    },
    {
      "cell_type": "code",
      "metadata": {
        "id": "tquu_lTZvXpo"
      },
      "source": [
        "from tensorflow.keras.losses import SparseCategoricalCrossentropy, CategoricalCrossentropy, binary_crossentropy\n",
        "\n",
        "### YOUR CODE HERE ###\n",
        "model.compile(optimizer='adam', \n",
        "              loss=SparseCategoricalCrossentropy(True), \n",
        "              metrics=['accuracy'])"
      ],
      "execution_count": 31,
      "outputs": []
    },
    {
      "cell_type": "markdown",
      "metadata": {
        "id": "CY8_Pm1I2j3i"
      },
      "source": [
        "Definição de features"
      ]
    },
    {
      "cell_type": "code",
      "metadata": {
        "id": "3JLDrXoT2gpc",
        "outputId": "1f84c58a-21bc-426c-8a71-02b3106b1868",
        "colab": {
          "base_uri": "https://localhost:8080/"
        }
      },
      "source": [
        "# X-Features & Y-Labels\n",
        "train_images = np.array([i[0] for i in train_data])\n",
        "train_labels = np.array([i[1] for i in train_data]).astype('uint8')\n",
        "\n",
        "#train_images[1][1].reshape(-1, 512, 512, 1)\n",
        "\n",
        "print(np.asarray(train_data).shape)\n",
        "print(train_images.shape, train_images.dtype)\n",
        "print(train_labels.shape, train_labels.dtype)"
      ],
      "execution_count": 22,
      "outputs": [
        {
          "output_type": "stream",
          "text": [
            "(1400, 2)\n",
            "(1400, 256, 256, 3) uint8\n",
            "(1400, 1) uint8\n"
          ],
          "name": "stdout"
        }
      ]
    },
    {
      "cell_type": "code",
      "metadata": {
        "id": "X18QoEnnoak6",
        "outputId": "8857ca97-fea8-4268-ca8d-42730dacaf68",
        "colab": {
          "base_uri": "https://localhost:8080/"
        }
      },
      "source": [
        "train_labels"
      ],
      "execution_count": 23,
      "outputs": [
        {
          "output_type": "execute_result",
          "data": {
            "text/plain": [
              "array([[0],\n",
              "       [1],\n",
              "       [0],\n",
              "       ...,\n",
              "       [0],\n",
              "       [0],\n",
              "       [0]], dtype=uint8)"
            ]
          },
          "metadata": {
            "tags": []
          },
          "execution_count": 23
        }
      ]
    },
    {
      "cell_type": "code",
      "metadata": {
        "id": "bN4Pn9UPyRii",
        "outputId": "cf889a3b-8666-41b3-815b-af1d8f6b3073",
        "colab": {
          "base_uri": "https://localhost:8080/"
        }
      },
      "source": [
        "history = model.fit(train_images, train_labels, epochs = 50, validation_split=0.2)"
      ],
      "execution_count": 33,
      "outputs": [
        {
          "output_type": "stream",
          "text": [
            "Epoch 1/50\n",
            " 2/35 [>.............................] - ETA: 2s - loss: 0.1228 - accuracy: 0.9219WARNING:tensorflow:Callbacks method `on_train_batch_end` is slow compared to the batch time (batch time: 0.0067s vs `on_train_batch_end` time: 0.0693s). Check your callbacks.\n",
            "35/35 [==============================] - 2s 63ms/step - loss: 0.1295 - accuracy: 0.9348 - val_loss: 1.9353 - val_accuracy: 0.5357\n",
            "Epoch 2/50\n",
            "35/35 [==============================] - 2s 60ms/step - loss: 0.1206 - accuracy: 0.9509 - val_loss: 2.0418 - val_accuracy: 0.5679\n",
            "Epoch 3/50\n",
            "35/35 [==============================] - 2s 59ms/step - loss: 0.1031 - accuracy: 0.9580 - val_loss: 2.1161 - val_accuracy: 0.5571\n",
            "Epoch 4/50\n",
            "35/35 [==============================] - 2s 60ms/step - loss: 0.1254 - accuracy: 0.9554 - val_loss: 2.3252 - val_accuracy: 0.5500\n",
            "Epoch 5/50\n",
            "35/35 [==============================] - 2s 60ms/step - loss: 0.0887 - accuracy: 0.9661 - val_loss: 2.0209 - val_accuracy: 0.5393\n",
            "Epoch 6/50\n",
            "35/35 [==============================] - 2s 60ms/step - loss: 0.0619 - accuracy: 0.9759 - val_loss: 2.8025 - val_accuracy: 0.5714\n",
            "Epoch 7/50\n",
            "35/35 [==============================] - 2s 60ms/step - loss: 0.0465 - accuracy: 0.9830 - val_loss: 3.8431 - val_accuracy: 0.5643\n",
            "Epoch 8/50\n",
            "35/35 [==============================] - 2s 60ms/step - loss: 0.0709 - accuracy: 0.9714 - val_loss: 3.4479 - val_accuracy: 0.5750\n",
            "Epoch 9/50\n",
            "35/35 [==============================] - 2s 60ms/step - loss: 0.0413 - accuracy: 0.9839 - val_loss: 3.3867 - val_accuracy: 0.5964\n",
            "Epoch 10/50\n",
            "35/35 [==============================] - 2s 60ms/step - loss: 0.0391 - accuracy: 0.9848 - val_loss: 3.0884 - val_accuracy: 0.6000\n",
            "Epoch 11/50\n",
            "35/35 [==============================] - 2s 60ms/step - loss: 0.0638 - accuracy: 0.9893 - val_loss: 3.0216 - val_accuracy: 0.5679\n",
            "Epoch 12/50\n",
            "35/35 [==============================] - 2s 60ms/step - loss: 0.0603 - accuracy: 0.9795 - val_loss: 3.0224 - val_accuracy: 0.5607\n",
            "Epoch 13/50\n",
            "35/35 [==============================] - 2s 60ms/step - loss: 0.0565 - accuracy: 0.9839 - val_loss: 3.7632 - val_accuracy: 0.5786\n",
            "Epoch 14/50\n",
            "35/35 [==============================] - 2s 60ms/step - loss: 0.0638 - accuracy: 0.9902 - val_loss: 3.4872 - val_accuracy: 0.5643\n",
            "Epoch 15/50\n",
            "35/35 [==============================] - 2s 59ms/step - loss: 0.0597 - accuracy: 0.9866 - val_loss: 3.6290 - val_accuracy: 0.6143\n",
            "Epoch 16/50\n",
            "35/35 [==============================] - 2s 60ms/step - loss: 0.0271 - accuracy: 0.9902 - val_loss: 4.3833 - val_accuracy: 0.6071\n",
            "Epoch 17/50\n",
            "35/35 [==============================] - 2s 60ms/step - loss: 0.0373 - accuracy: 0.9884 - val_loss: 3.7654 - val_accuracy: 0.5821\n",
            "Epoch 18/50\n",
            "35/35 [==============================] - 2s 60ms/step - loss: 0.0183 - accuracy: 0.9955 - val_loss: 4.2138 - val_accuracy: 0.6071\n",
            "Epoch 19/50\n",
            "35/35 [==============================] - 2s 60ms/step - loss: 0.0438 - accuracy: 0.9946 - val_loss: 4.4620 - val_accuracy: 0.5929\n",
            "Epoch 20/50\n",
            "35/35 [==============================] - 2s 60ms/step - loss: 0.0693 - accuracy: 0.9839 - val_loss: 3.7678 - val_accuracy: 0.6107\n",
            "Epoch 21/50\n",
            "35/35 [==============================] - 2s 60ms/step - loss: 0.0373 - accuracy: 0.9875 - val_loss: 3.9306 - val_accuracy: 0.5964\n",
            "Epoch 22/50\n",
            "35/35 [==============================] - 2s 61ms/step - loss: 0.0302 - accuracy: 0.9929 - val_loss: 3.8939 - val_accuracy: 0.6036\n",
            "Epoch 23/50\n",
            "35/35 [==============================] - 2s 60ms/step - loss: 0.0160 - accuracy: 0.9946 - val_loss: 4.3301 - val_accuracy: 0.6214\n",
            "Epoch 24/50\n",
            "35/35 [==============================] - 2s 61ms/step - loss: 0.0105 - accuracy: 0.9955 - val_loss: 4.9095 - val_accuracy: 0.6036\n",
            "Epoch 25/50\n",
            "35/35 [==============================] - 2s 60ms/step - loss: 0.0723 - accuracy: 0.9866 - val_loss: 6.2584 - val_accuracy: 0.6107\n",
            "Epoch 26/50\n",
            "35/35 [==============================] - 2s 60ms/step - loss: 0.1263 - accuracy: 0.9750 - val_loss: 3.9311 - val_accuracy: 0.6321\n",
            "Epoch 27/50\n",
            "35/35 [==============================] - 2s 60ms/step - loss: 0.0484 - accuracy: 0.9848 - val_loss: 3.9740 - val_accuracy: 0.6143\n",
            "Epoch 28/50\n",
            "35/35 [==============================] - 2s 60ms/step - loss: 0.0295 - accuracy: 0.9902 - val_loss: 4.0336 - val_accuracy: 0.6321\n",
            "Epoch 29/50\n",
            "35/35 [==============================] - 2s 60ms/step - loss: 0.0275 - accuracy: 0.9920 - val_loss: 4.1703 - val_accuracy: 0.6893\n",
            "Epoch 30/50\n",
            "35/35 [==============================] - 2s 60ms/step - loss: 0.0223 - accuracy: 0.9929 - val_loss: 4.8267 - val_accuracy: 0.6643\n",
            "Epoch 31/50\n",
            "35/35 [==============================] - 2s 60ms/step - loss: 0.0730 - accuracy: 0.9839 - val_loss: 3.2749 - val_accuracy: 0.6321\n",
            "Epoch 32/50\n",
            "35/35 [==============================] - 2s 60ms/step - loss: 0.0221 - accuracy: 0.9902 - val_loss: 3.9243 - val_accuracy: 0.6429\n",
            "Epoch 33/50\n",
            "35/35 [==============================] - 2s 61ms/step - loss: 0.0104 - accuracy: 0.9973 - val_loss: 4.1073 - val_accuracy: 0.6893\n",
            "Epoch 34/50\n",
            "35/35 [==============================] - 2s 61ms/step - loss: 0.0116 - accuracy: 0.9955 - val_loss: 4.1784 - val_accuracy: 0.6357\n",
            "Epoch 35/50\n",
            "35/35 [==============================] - 2s 60ms/step - loss: 0.0068 - accuracy: 0.9982 - val_loss: 4.3541 - val_accuracy: 0.6500\n",
            "Epoch 36/50\n",
            "35/35 [==============================] - 2s 60ms/step - loss: 0.0063 - accuracy: 0.9973 - val_loss: 4.5620 - val_accuracy: 0.6536\n",
            "Epoch 37/50\n",
            "35/35 [==============================] - 2s 61ms/step - loss: 0.0016 - accuracy: 0.9991 - val_loss: 4.7441 - val_accuracy: 0.6571\n",
            "Epoch 38/50\n",
            "35/35 [==============================] - 2s 61ms/step - loss: 0.0020 - accuracy: 0.9991 - val_loss: 5.0189 - val_accuracy: 0.6571\n",
            "Epoch 39/50\n",
            "35/35 [==============================] - 2s 61ms/step - loss: 0.0134 - accuracy: 0.9982 - val_loss: 5.0951 - val_accuracy: 0.6786\n",
            "Epoch 40/50\n",
            "35/35 [==============================] - 2s 61ms/step - loss: 0.0062 - accuracy: 0.9973 - val_loss: 4.5519 - val_accuracy: 0.6607\n",
            "Epoch 41/50\n",
            "35/35 [==============================] - 2s 60ms/step - loss: 0.0022 - accuracy: 1.0000 - val_loss: 4.6523 - val_accuracy: 0.6393\n",
            "Epoch 42/50\n",
            "35/35 [==============================] - 2s 60ms/step - loss: 0.0021 - accuracy: 1.0000 - val_loss: 4.7975 - val_accuracy: 0.6500\n",
            "Epoch 43/50\n",
            "35/35 [==============================] - 2s 61ms/step - loss: 8.0935e-04 - accuracy: 1.0000 - val_loss: 4.8252 - val_accuracy: 0.6607\n",
            "Epoch 44/50\n",
            "35/35 [==============================] - 2s 61ms/step - loss: 0.0018 - accuracy: 1.0000 - val_loss: 4.9040 - val_accuracy: 0.6679\n",
            "Epoch 45/50\n",
            "35/35 [==============================] - 2s 60ms/step - loss: 0.0036 - accuracy: 0.9991 - val_loss: 4.1708 - val_accuracy: 0.6286\n",
            "Epoch 46/50\n",
            "35/35 [==============================] - 2s 60ms/step - loss: 0.0035 - accuracy: 0.9982 - val_loss: 4.4619 - val_accuracy: 0.6393\n",
            "Epoch 47/50\n",
            "35/35 [==============================] - 2s 61ms/step - loss: 0.0029 - accuracy: 0.9982 - val_loss: 4.6470 - val_accuracy: 0.6464\n",
            "Epoch 48/50\n",
            "35/35 [==============================] - 2s 60ms/step - loss: 0.0015 - accuracy: 0.9991 - val_loss: 4.8535 - val_accuracy: 0.6393\n",
            "Epoch 49/50\n",
            "35/35 [==============================] - 2s 60ms/step - loss: 3.0471e-04 - accuracy: 1.0000 - val_loss: 5.0199 - val_accuracy: 0.6393\n",
            "Epoch 50/50\n",
            "35/35 [==============================] - 2s 61ms/step - loss: 2.2352e-04 - accuracy: 1.0000 - val_loss: 5.0772 - val_accuracy: 0.6500\n"
          ],
          "name": "stdout"
        }
      ]
    },
    {
      "cell_type": "code",
      "metadata": {
        "id": "eieAHTfioZi9"
      },
      "source": [
        "train_labels"
      ],
      "execution_count": null,
      "outputs": []
    },
    {
      "cell_type": "code",
      "metadata": {
        "id": "kcV3ojQalhht"
      },
      "source": [
        "# APRESENTAÇÃO DE RESULTADOS\n",
        "\n",
        "#print(\"Confusion Matrix\\n\", confusion_matrix(y_train, train_predictions))\n",
        "#print(\"Accuracy: %.2f %%\" % (accuracy_score(y_train, train_predictions) * 100))"
      ],
      "execution_count": null,
      "outputs": []
    },
    {
      "cell_type": "code",
      "metadata": {
        "id": "qwc12WRfNxdf"
      },
      "source": [
        ""
      ],
      "execution_count": null,
      "outputs": []
    }
  ]
}