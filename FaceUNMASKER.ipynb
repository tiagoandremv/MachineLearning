{
  "nbformat": 4,
  "nbformat_minor": 0,
  "metadata": {
    "colab": {
      "name": "FaceUNMASKER.ipynb",
      "provenance": [],
      "collapsed_sections": [],
      "mount_file_id": "17cwN4JDpiSqk8wPVmFt09UdOE_6m9L9n",
      "authorship_tag": "ABX9TyOci3VykBO7IJrNdsiNF+R2",
      "include_colab_link": true
    },
    "kernelspec": {
      "name": "python3",
      "display_name": "Python 3"
    },
    "accelerator": "GPU"
  },
  "cells": [
    {
      "cell_type": "markdown",
      "metadata": {
        "id": "view-in-github",
        "colab_type": "text"
      },
      "source": [
        "<a href=\"https://colab.research.google.com/github/tiagoandremv/MachineLearning/blob/main/FaceUNMASKER.ipynb\" target=\"_parent\"><img src=\"https://colab.research.google.com/assets/colab-badge.svg\" alt=\"Open In Colab\"/></a>"
      ]
    },
    {
      "cell_type": "code",
      "metadata": {
        "id": "-5-3_7hxkZ_W"
      },
      "source": [
        ""
      ],
      "execution_count": null,
      "outputs": []
    },
    {
      "cell_type": "markdown",
      "metadata": {
        "id": "3UTB4P_jkhtC"
      },
      "source": [
        "#Importação de bibliotecas"
      ]
    },
    {
      "cell_type": "code",
      "metadata": {
        "id": "DC2QoQUPkjaC"
      },
      "source": [
        "# IMPORTAÇÃO DE BIBLIOTECAS NECESSÁRIAS\n",
        "import os\n",
        "import cv2\n",
        "import pandas as pd\n",
        "import numpy as np\n",
        "import matplotlib \n",
        "import matplotlib.pyplot as plt\n",
        "\n",
        "from sklearn.metrics import confusion_matrix, accuracy_score, roc_curve, mean_squared_error\n",
        "\n",
        "from sklearn.model_selection import train_test_split\n",
        "\n",
        "from tqdm import tqdm # permite verificar o progresso do carregamento\n",
        "from random import shuffle\n",
        "\n",
        "\n",
        "# usando o cv2, deixa de ser necesasrio fazer o import do google drive\n",
        "#from google.colab import drive\n",
        "#drive.mount('/gdrive')\n",
        "\n",
        "class PrepareData:\n",
        "\n",
        "  def __init__(self):\n",
        "    path = '/content/drive/My Drive/Colab Notebooks/tdx_project/dataset-proj/'\n",
        "    self.train_path = path + 'train/'  \n",
        "    self.validation_path = path + 'validation/' \n",
        "\n",
        "  def label_img(self, _path):\n",
        "    word_label = _path.split('/')[-2]\n",
        "    if word_label == 'fake':\n",
        "      return [1]\n",
        "    elif word_label == 'real':\n",
        "      return [0]\n",
        "\n",
        "  def scale_image(self, img, scale_percent = 50):\n",
        "    width = int(img.shape[1] * scale_percent / 100)\n",
        "    height = int(img.shape[0] * scale_percent / 100)\n",
        "    scale = (width, height)\n",
        "    img = cv2.resize(img, scale)\n",
        "    return img\n",
        "\n",
        "  def load_prepare_data (self, _type):\n",
        "    dataset = []\n",
        "    _path = self.train_path if _type == 'train' else self.validation_path \n",
        "    for folder in os.listdir(_path): #['fake', 'real']\n",
        "      path_folder = os.path.join(_path, folder)\n",
        "\n",
        "      for filename in tqdm(os.listdir(path_folder)):\n",
        "        #print(path_folder)\n",
        "        path = os.path.join(path_folder, filename)\n",
        "        #print(path)\n",
        "        label = self.label_img(path) # [0,1] para real , [1,0] para fake\n",
        "        #print(label)\n",
        "\n",
        "        img = cv2.imread(path)\n",
        "        img = self.scale_image(img)\n",
        "        img = self.scale_image(img)\n",
        "\n",
        "        img = img.astype(\"float64\") / 255.0\n",
        "        #original_image = cv2.cvtColor(img, cv2.COLOR_BGR2RGB)   \n",
        "        dataset.append([np.array(img), np.array(label)])\n",
        "    shuffle(dataset)\n",
        "    return dataset    \n",
        "\n",
        "def plot_all_images(images):\n",
        "  for i in range(len(images)):\n",
        "    plt.subplot(1,len(images),i+1) \n",
        "    plt.imshow(images[i])\n",
        "    plt.title(titles[i])\n",
        "    plt.xticks([])\n",
        "    plt.yticks([])\n",
        "  plt.show()\n",
        "\n",
        "def plot_image(img):\n",
        "  plot = plt.figure()\n",
        "#  plot = plot.add_subplot(4, 5, num + 1)\n",
        "  plot.imshow(img)\n",
        "  plot.show()\n",
        "\n",
        "\n",
        "\n"
      ],
      "execution_count": 2,
      "outputs": []
    },
    {
      "cell_type": "code",
      "metadata": {
        "id": "5mMaemz3bAAM",
        "outputId": "cb1d7e96-3ae3-4491-bb28-44c532e402e2",
        "colab": {
          "base_uri": "https://localhost:8080/",
          "height": 163
        }
      },
      "source": [
        "label_img('/content/drive/My Drive/Colab Notebooks/tdx_project/dataset/train/fake/159.jpg')"
      ],
      "execution_count": 34,
      "outputs": [
        {
          "output_type": "error",
          "ename": "NameError",
          "evalue": "ignored",
          "traceback": [
            "\u001b[0;31m---------------------------------------------------------------------------\u001b[0m",
            "\u001b[0;31mNameError\u001b[0m                                 Traceback (most recent call last)",
            "\u001b[0;32m<ipython-input-34-2704ef7a02cd>\u001b[0m in \u001b[0;36m<module>\u001b[0;34m()\u001b[0m\n\u001b[0;32m----> 1\u001b[0;31m \u001b[0mlabel_img\u001b[0m\u001b[0;34m(\u001b[0m\u001b[0;34m'/content/drive/My Drive/Colab Notebooks/tdx_project/dataset/train/fake/159.jpg'\u001b[0m\u001b[0;34m)\u001b[0m\u001b[0;34m\u001b[0m\u001b[0;34m\u001b[0m\u001b[0m\n\u001b[0m",
            "\u001b[0;31mNameError\u001b[0m: name 'label_img' is not defined"
          ]
        }
      ]
    },
    {
      "cell_type": "markdown",
      "metadata": {
        "id": "SNDk9L0qHU75"
      },
      "source": [
        "#Carregamento de Imagens"
      ]
    },
    {
      "cell_type": "code",
      "metadata": {
        "id": "BMp7KwCgQPlk",
        "outputId": "4b921f39-2496-4dde-98f4-afb6cf4fc977",
        "colab": {
          "base_uri": "https://localhost:8080/"
        }
      },
      "source": [
        "pData = PrepareData()\n",
        "train_data = pData.load_prepare_data(_type = 'train')\n",
        "validation_data = pData.load_prepare_data(_type = 'validation')"
      ],
      "execution_count": 3,
      "outputs": [
        {
          "output_type": "stream",
          "text": [
            "100%|██████████| 700/700 [00:12<00:00, 54.65it/s]\n",
            "100%|██████████| 700/700 [00:56<00:00, 12.34it/s]\n",
            "100%|██████████| 300/300 [00:05<00:00, 55.98it/s]\n",
            "100%|██████████| 300/300 [00:24<00:00, 12.40it/s]\n"
          ],
          "name": "stderr"
        }
      ]
    },
    {
      "cell_type": "code",
      "metadata": {
        "id": "Jm_Pbvnk5dQv",
        "outputId": "d0e07889-0378-4fad-b796-05956f191c38",
        "colab": {
          "base_uri": "https://localhost:8080/"
        }
      },
      "source": [
        "print(np.asarray(train_data).shape, np.asarray(validation_data).shape)"
      ],
      "execution_count": 4,
      "outputs": [
        {
          "output_type": "stream",
          "text": [
            "(1400, 2) (600, 2)\n"
          ],
          "name": "stdout"
        }
      ]
    },
    {
      "cell_type": "code",
      "metadata": {
        "id": "VKJBtlagSkd4",
        "outputId": "4894f06b-dfac-4cce-fd19-99a94a693a55",
        "colab": {
          "base_uri": "https://localhost:8080/"
        }
      },
      "source": [
        "num, data = train_data[0]\n",
        "\n",
        "inputs_shape = num.shape\n",
        "print(\"Inputs Shape: \", inputs_shape)"
      ],
      "execution_count": 6,
      "outputs": [
        {
          "output_type": "stream",
          "text": [
            "Inputs Shape:  (256, 256, 3)\n"
          ],
          "name": "stdout"
        }
      ]
    },
    {
      "cell_type": "markdown",
      "metadata": {
        "id": "QwrfzfWRRA3a"
      },
      "source": [
        "# Definição do MODEL"
      ]
    },
    {
      "cell_type": "code",
      "metadata": {
        "id": "dGnlFfSIQuwj"
      },
      "source": [
        "from tensorflow.keras import layers, models\n",
        "from tensorflow.keras.callbacks import EarlyStopping\n",
        "\n",
        "early_callback = EarlyStopping(monitor = 'loss', patience = 2)\n",
        "\n",
        "model = models.Sequential()\n",
        "\n",
        "### YOUR CODE HERE: ~9 lines of code expected, one per layer ### \n",
        "model.add(layers.Conv2D(32, (2, 2), activation='relu', padding='same', input_shape=inputs_shape))\n",
        "model.add(layers.MaxPooling2D((2, 2)))\n",
        "model.add(layers.Conv2D(64, (2,2), activation='relu'))\n",
        "model.add(layers.MaxPooling2D((2, 2)))\n",
        "#model.add(layers.Dropout(0.2))\n",
        "\n",
        "model.add(layers.Conv2D(128, (2, 2), activation='relu'))\n",
        "model.add(layers.Dropout(0.2))\n",
        "\n",
        "model.add(layers.Flatten())\n",
        "\n",
        "model.add(layers.Dense(128, activation='relu'))\n",
        "model.add(layers.Dense(10))"
      ],
      "execution_count": 7,
      "outputs": []
    },
    {
      "cell_type": "code",
      "metadata": {
        "id": "tquu_lTZvXpo"
      },
      "source": [
        "from tensorflow.keras.losses import SparseCategoricalCrossentropy, CategoricalCrossentropy, binary_crossentropy\n",
        "\n",
        "### YOUR CODE HERE ###\n",
        "model.compile(optimizer='adam', \n",
        "              loss=SparseCategoricalCrossentropy(True), \n",
        "              metrics=['accuracy'])"
      ],
      "execution_count": 8,
      "outputs": []
    },
    {
      "cell_type": "markdown",
      "metadata": {
        "id": "CY8_Pm1I2j3i"
      },
      "source": [
        "Definição de features"
      ]
    },
    {
      "cell_type": "code",
      "metadata": {
        "id": "3JLDrXoT2gpc",
        "outputId": "6f2dad80-c152-4e52-d52e-c1d1cf456368",
        "colab": {
          "base_uri": "https://localhost:8080/"
        }
      },
      "source": [
        "# X-Features & Y-Labels\n",
        "train_images = np.array([i[0] for i in train_data])\n",
        "train_labels = np.array([i[1] for i in train_data]).astype('float64')\n",
        "\n",
        "validation_images = np.array([i[0] for i in validation_data])\n",
        "validation_labels = np.array([i[1] for i in validation_data]).astype('float64')\n",
        "\n",
        "#train_images[1][1].reshape(-1, 512, 512, 1)\n",
        "\n",
        "print(np.asarray(train_data).shape)\n",
        "print(train_images.shape, train_images.dtype)\n",
        "print(train_labels.shape, train_labels.dtype)"
      ],
      "execution_count": 9,
      "outputs": [
        {
          "output_type": "stream",
          "text": [
            "(1400, 2)\n",
            "(1400, 256, 256, 3) float64\n",
            "(1400, 1) float64\n"
          ],
          "name": "stdout"
        }
      ]
    },
    {
      "cell_type": "code",
      "metadata": {
        "id": "X18QoEnnoak6"
      },
      "source": [
        "train_labels"
      ],
      "execution_count": null,
      "outputs": []
    },
    {
      "cell_type": "code",
      "metadata": {
        "id": "bN4Pn9UPyRii",
        "outputId": "d056ff4a-380a-4b0f-d070-b16c79bfb050",
        "colab": {
          "base_uri": "https://localhost:8080/"
        }
      },
      "source": [
        "history = model.fit(train_images, \n",
        "                    train_labels, \n",
        "                    epochs = 50, \n",
        "                    validation_data = (validation_images, validation_labels), \n",
        "                    callbacks = [early_callback] )"
      ],
      "execution_count": 10,
      "outputs": [
        {
          "output_type": "stream",
          "text": [
            "Epoch 1/50\n",
            "44/44 [==============================] - 4s 95ms/step - loss: 4.1324 - accuracy: 0.5221 - val_loss: 0.6771 - val_accuracy: 0.5950\n",
            "Epoch 2/50\n",
            "44/44 [==============================] - 3s 77ms/step - loss: 0.6261 - accuracy: 0.6593 - val_loss: 0.6182 - val_accuracy: 0.6567\n",
            "Epoch 3/50\n",
            "44/44 [==============================] - 3s 77ms/step - loss: 0.5374 - accuracy: 0.7343 - val_loss: 0.5654 - val_accuracy: 0.7050\n",
            "Epoch 4/50\n",
            "44/44 [==============================] - 3s 77ms/step - loss: 0.3690 - accuracy: 0.8421 - val_loss: 0.5563 - val_accuracy: 0.7233\n",
            "Epoch 5/50\n",
            "44/44 [==============================] - 3s 77ms/step - loss: 0.2310 - accuracy: 0.9193 - val_loss: 0.6229 - val_accuracy: 0.7333\n",
            "Epoch 6/50\n",
            "44/44 [==============================] - 3s 77ms/step - loss: 0.1083 - accuracy: 0.9629 - val_loss: 0.7810 - val_accuracy: 0.7367\n",
            "Epoch 7/50\n",
            "44/44 [==============================] - 3s 77ms/step - loss: 0.0367 - accuracy: 0.9921 - val_loss: 0.8679 - val_accuracy: 0.7417\n",
            "Epoch 8/50\n",
            "44/44 [==============================] - 3s 77ms/step - loss: 0.0197 - accuracy: 0.9986 - val_loss: 0.9448 - val_accuracy: 0.7400\n",
            "Epoch 9/50\n",
            "44/44 [==============================] - 3s 77ms/step - loss: 0.0102 - accuracy: 0.9993 - val_loss: 0.9948 - val_accuracy: 0.7217\n",
            "Epoch 10/50\n",
            "44/44 [==============================] - 3s 78ms/step - loss: 0.0074 - accuracy: 0.9993 - val_loss: 1.1592 - val_accuracy: 0.7467\n",
            "Epoch 11/50\n",
            "44/44 [==============================] - 3s 78ms/step - loss: 0.0018 - accuracy: 1.0000 - val_loss: 1.2224 - val_accuracy: 0.7483\n",
            "Epoch 12/50\n",
            "44/44 [==============================] - 3s 77ms/step - loss: 0.0010 - accuracy: 1.0000 - val_loss: 1.2446 - val_accuracy: 0.7517\n",
            "Epoch 13/50\n",
            "44/44 [==============================] - 3s 78ms/step - loss: 6.9000e-04 - accuracy: 1.0000 - val_loss: 1.2541 - val_accuracy: 0.7533\n",
            "Epoch 14/50\n",
            "44/44 [==============================] - 3s 78ms/step - loss: 4.9694e-04 - accuracy: 1.0000 - val_loss: 1.3293 - val_accuracy: 0.7483\n",
            "Epoch 15/50\n",
            "44/44 [==============================] - 3s 79ms/step - loss: 3.8081e-04 - accuracy: 1.0000 - val_loss: 1.3611 - val_accuracy: 0.7517\n",
            "Epoch 16/50\n",
            "44/44 [==============================] - 3s 79ms/step - loss: 3.1239e-04 - accuracy: 1.0000 - val_loss: 1.3780 - val_accuracy: 0.7483\n",
            "Epoch 17/50\n",
            "44/44 [==============================] - 3s 78ms/step - loss: 2.7063e-04 - accuracy: 1.0000 - val_loss: 1.4093 - val_accuracy: 0.7517\n",
            "Epoch 18/50\n",
            "44/44 [==============================] - 3s 78ms/step - loss: 2.4371e-04 - accuracy: 1.0000 - val_loss: 1.4073 - val_accuracy: 0.7533\n",
            "Epoch 19/50\n",
            "44/44 [==============================] - 3s 79ms/step - loss: 2.0259e-04 - accuracy: 1.0000 - val_loss: 1.4463 - val_accuracy: 0.7500\n",
            "Epoch 20/50\n",
            "44/44 [==============================] - 4s 80ms/step - loss: 1.6500e-04 - accuracy: 1.0000 - val_loss: 1.4671 - val_accuracy: 0.7517\n",
            "Epoch 21/50\n",
            "44/44 [==============================] - 3s 79ms/step - loss: 1.6004e-04 - accuracy: 1.0000 - val_loss: 1.4977 - val_accuracy: 0.7500\n",
            "Epoch 22/50\n",
            "44/44 [==============================] - 3s 79ms/step - loss: 1.5153e-04 - accuracy: 1.0000 - val_loss: 1.5023 - val_accuracy: 0.7500\n",
            "Epoch 23/50\n",
            "44/44 [==============================] - 3s 79ms/step - loss: 1.2591e-04 - accuracy: 1.0000 - val_loss: 1.5358 - val_accuracy: 0.7467\n",
            "Epoch 24/50\n",
            "44/44 [==============================] - 3s 79ms/step - loss: 1.0533e-04 - accuracy: 1.0000 - val_loss: 1.5393 - val_accuracy: 0.7500\n",
            "Epoch 25/50\n",
            "44/44 [==============================] - 3s 79ms/step - loss: 9.9261e-05 - accuracy: 1.0000 - val_loss: 1.5636 - val_accuracy: 0.7467\n",
            "Epoch 26/50\n",
            "44/44 [==============================] - 3s 79ms/step - loss: 8.6079e-05 - accuracy: 1.0000 - val_loss: 1.5804 - val_accuracy: 0.7450\n",
            "Epoch 27/50\n",
            "44/44 [==============================] - 3s 79ms/step - loss: 9.1553e-05 - accuracy: 1.0000 - val_loss: 1.5846 - val_accuracy: 0.7483\n",
            "Epoch 28/50\n",
            "44/44 [==============================] - 4s 80ms/step - loss: 8.5497e-05 - accuracy: 1.0000 - val_loss: 1.5612 - val_accuracy: 0.7417\n",
            "Epoch 29/50\n",
            "44/44 [==============================] - 3s 79ms/step - loss: 7.6230e-05 - accuracy: 1.0000 - val_loss: 1.6031 - val_accuracy: 0.7483\n",
            "Epoch 30/50\n",
            "44/44 [==============================] - 3s 79ms/step - loss: 6.3287e-05 - accuracy: 1.0000 - val_loss: 1.5965 - val_accuracy: 0.7417\n",
            "Epoch 31/50\n",
            "44/44 [==============================] - 3s 79ms/step - loss: 5.9180e-05 - accuracy: 1.0000 - val_loss: 1.6312 - val_accuracy: 0.7483\n",
            "Epoch 32/50\n",
            "44/44 [==============================] - 3s 79ms/step - loss: 5.0778e-05 - accuracy: 1.0000 - val_loss: 1.6573 - val_accuracy: 0.7417\n",
            "Epoch 33/50\n",
            "44/44 [==============================] - 3s 79ms/step - loss: 5.6647e-05 - accuracy: 1.0000 - val_loss: 1.6627 - val_accuracy: 0.7450\n",
            "Epoch 34/50\n",
            "44/44 [==============================] - 3s 79ms/step - loss: 5.2019e-05 - accuracy: 1.0000 - val_loss: 1.6596 - val_accuracy: 0.7500\n",
            "Epoch 35/50\n",
            "44/44 [==============================] - 3s 79ms/step - loss: 4.5057e-05 - accuracy: 1.0000 - val_loss: 1.6656 - val_accuracy: 0.7483\n",
            "Epoch 36/50\n",
            "44/44 [==============================] - 3s 79ms/step - loss: 4.3226e-05 - accuracy: 1.0000 - val_loss: 1.6736 - val_accuracy: 0.7450\n",
            "Epoch 37/50\n",
            "44/44 [==============================] - 3s 79ms/step - loss: 4.0385e-05 - accuracy: 1.0000 - val_loss: 1.7026 - val_accuracy: 0.7467\n",
            "Epoch 38/50\n",
            "44/44 [==============================] - 3s 79ms/step - loss: 3.8759e-05 - accuracy: 1.0000 - val_loss: 1.7150 - val_accuracy: 0.7450\n",
            "Epoch 39/50\n",
            "44/44 [==============================] - 3s 79ms/step - loss: 3.0977e-05 - accuracy: 1.0000 - val_loss: 1.7134 - val_accuracy: 0.7417\n",
            "Epoch 40/50\n",
            "44/44 [==============================] - 3s 79ms/step - loss: 2.9916e-05 - accuracy: 1.0000 - val_loss: 1.7132 - val_accuracy: 0.7433\n",
            "Epoch 41/50\n",
            "44/44 [==============================] - 3s 79ms/step - loss: 3.1100e-05 - accuracy: 1.0000 - val_loss: 1.7508 - val_accuracy: 0.7383\n",
            "Epoch 42/50\n",
            "44/44 [==============================] - 4s 80ms/step - loss: 3.0579e-05 - accuracy: 1.0000 - val_loss: 1.7366 - val_accuracy: 0.7450\n",
            "Epoch 43/50\n",
            "44/44 [==============================] - 3s 79ms/step - loss: 2.5373e-05 - accuracy: 1.0000 - val_loss: 1.7569 - val_accuracy: 0.7450\n",
            "Epoch 44/50\n",
            "44/44 [==============================] - 3s 79ms/step - loss: 2.4433e-05 - accuracy: 1.0000 - val_loss: 1.7765 - val_accuracy: 0.7433\n",
            "Epoch 45/50\n",
            "44/44 [==============================] - 3s 79ms/step - loss: 2.4253e-05 - accuracy: 1.0000 - val_loss: 1.7825 - val_accuracy: 0.7433\n",
            "Epoch 46/50\n",
            "44/44 [==============================] - 3s 79ms/step - loss: 2.1780e-05 - accuracy: 1.0000 - val_loss: 1.7843 - val_accuracy: 0.7450\n",
            "Epoch 47/50\n",
            "44/44 [==============================] - 4s 80ms/step - loss: 2.3109e-05 - accuracy: 1.0000 - val_loss: 1.7902 - val_accuracy: 0.7433\n",
            "Epoch 48/50\n",
            "44/44 [==============================] - 3s 79ms/step - loss: 1.7177e-05 - accuracy: 1.0000 - val_loss: 1.8001 - val_accuracy: 0.7450\n",
            "Epoch 49/50\n",
            "44/44 [==============================] - 3s 79ms/step - loss: 1.9289e-05 - accuracy: 1.0000 - val_loss: 1.7734 - val_accuracy: 0.7433\n",
            "Epoch 50/50\n",
            "44/44 [==============================] - 3s 79ms/step - loss: 1.7482e-05 - accuracy: 1.0000 - val_loss: 1.8112 - val_accuracy: 0.7417\n"
          ],
          "name": "stdout"
        }
      ]
    },
    {
      "cell_type": "code",
      "metadata": {
        "id": "eieAHTfioZi9"
      },
      "source": [
        "train_labels"
      ],
      "execution_count": null,
      "outputs": []
    },
    {
      "cell_type": "code",
      "metadata": {
        "id": "kcV3ojQalhht"
      },
      "source": [
        "# APRESENTAÇÃO DE RESULTADOS\n",
        "\n",
        "#print(\"Confusion Matrix\\n\", confusion_matrix(y_train, train_predictions))\n",
        "#print(\"Accuracy: %.2f %%\" % (accuracy_score(y_train, train_predictions) * 100))"
      ],
      "execution_count": null,
      "outputs": []
    },
    {
      "cell_type": "code",
      "metadata": {
        "id": "qwc12WRfNxdf"
      },
      "source": [
        ""
      ],
      "execution_count": null,
      "outputs": []
    }
  ]
}